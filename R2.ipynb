{
 "cells": [
  {
   "cell_type": "code",
   "execution_count": 1,
   "metadata": {},
   "outputs": [],
   "source": [
    "import numpy as np\n",
    "from sklearn.cluster import KMeans"
   ]
  },
  {
   "cell_type": "code",
   "execution_count": 2,
   "metadata": {},
   "outputs": [],
   "source": [
    "file_name = 'R22.txt'"
   ]
  },
  {
   "cell_type": "code",
   "execution_count": 3,
   "metadata": {},
   "outputs": [],
   "source": [
    "dataset = []\n",
    "with open(file_name) as f:\n",
    "    q = f.readline()\n",
    "    [di, n_d, m, k, out] = [int(i) for i in q.split()]\n",
    "    D = np.zeros((n_d,di))\n",
    "    X = [[0.0]*di for i in range(n_d)]\n",
    "    r_point = [0]*di\n",
    "    q = f.readline()\n",
    "    k_c = [int(i) for i in q.split()]\n",
    "    i = 0\n",
    "    for line in f:\n",
    "        r_point = [0]*di\n",
    "        r_point = line.split()\n",
    "        D[i] = [float(rr) for rr in r_point]\n",
    "        X[i] = [float(rr) for rr in r_point]\n",
    "        i += 1\n",
    "m = int(m)"
   ]
  },
  {
   "cell_type": "code",
   "execution_count": 4,
   "metadata": {},
   "outputs": [],
   "source": [
    "outliers = D[len(D)-out:]\n",
    "D = D[:len(D)-out]"
   ]
  },
  {
   "cell_type": "code",
   "execution_count": 5,
   "metadata": {},
   "outputs": [],
   "source": [
    "kmeans = KMeans(n_clusters=m, random_state=1).fit(D)\n",
    "manifolds = [[] for i in range(m)]\n",
    "manifold_centers = kmeans.cluster_centers_"
   ]
  },
  {
   "cell_type": "code",
   "execution_count": 6,
   "metadata": {},
   "outputs": [],
   "source": [
    "cc = kmeans.fit_predict(D)"
   ]
  },
  {
   "cell_type": "code",
   "execution_count": 7,
   "metadata": {},
   "outputs": [],
   "source": [
    "sub_names = [[] for i in range(m)]\n",
    "sub_index = [[] for i in range(m)]\n",
    "for i in range(len(D)):\n",
    "    sub_names[cc[i]].append(D[i])\n",
    "    sub_index[cc[i]].append(i)"
   ]
  },
  {
   "cell_type": "code",
   "execution_count": 8,
   "metadata": {},
   "outputs": [
    {
     "name": "stdout",
     "output_type": "stream",
     "text": [
      "260\n",
      "256\n",
      "254\n"
     ]
    }
   ],
   "source": [
    "for k in sub_index:\n",
    "    print(len(k))"
   ]
  },
  {
   "cell_type": "code",
   "execution_count": 9,
   "metadata": {},
   "outputs": [],
   "source": [
    "def peda(a,b):\n",
    "    s = 0\n",
    "    for i in range(di):\n",
    "        s += (a[i] - b[i])**2\n",
    "    return(np.sqrt(s))"
   ]
  },
  {
   "cell_type": "code",
   "execution_count": 10,
   "metadata": {},
   "outputs": [],
   "source": [
    "def mandr_finder(A, a, m1):\n",
    "    mn = A[0]\n",
    "    mm =  peda(mn,m1)\n",
    "    for node in A:\n",
    "        if peda(node,m1) < mm:\n",
    "            mm =  peda(node,m1)\n",
    "            mn = node\n",
    "    m1 = mn\n",
    "\n",
    "    mn = A[0]\n",
    "    mm =  peda(mn,m1)\n",
    "    for node in A:\n",
    "        if peda(node,m1) > mm:\n",
    "            mm =  peda(node,m1)\n",
    "            mn = node\n",
    "    r1 = mm\n",
    "    return(m1, r1)"
   ]
  },
  {
   "cell_type": "code",
   "execution_count": 11,
   "metadata": {},
   "outputs": [],
   "source": [
    "manifold_rad = [0] * m\n",
    "for i in range(m):\n",
    "    (m1, r1) = mandr_finder(sub_names[i], sub_index[i], manifold_centers[i])\n",
    "    manifold_centers[i] = m1\n",
    "    manifold_rad[i] = r1"
   ]
  },
  {
   "cell_type": "code",
   "execution_count": 12,
   "metadata": {},
   "outputs": [],
   "source": [
    "def pmr(m, r):\n",
    "    for k in m:\n",
    "        print(k, end = ' ')\n",
    "    print(r)"
   ]
  },
  {
   "cell_type": "code",
   "execution_count": 13,
   "metadata": {},
   "outputs": [],
   "source": [
    "def spiliter(data, data_index, n_cluster, dim):\n",
    "    global sum_error\n",
    "    cluster_centers = []*n_cluster\n",
    "    kmeans = KMeans(n_clusters=n_cluster, random_state=1).fit(data)\n",
    "    cluster_centers = kmeans.cluster_centers_\n",
    "    cc = kmeans.fit_predict(data)\n",
    "    \n",
    "    spilit_data = [[] for _ in range(n_cluster)]\n",
    "    for i in range(len(data)):\n",
    "        spilit_data[cc[i]].append(data_index[i])\n",
    "    sum_error += kmeans.inertia_\n",
    "    return(spilit_data)"
   ]
  },
  {
   "cell_type": "code",
   "execution_count": 14,
   "metadata": {},
   "outputs": [],
   "source": [
    "def print_cluster(clusters):\n",
    "    for cl in clusters:\n",
    "        print(len(cl), end = ' ')\n",
    "        for p in cl:\n",
    "            print(p, end= ' ')\n",
    "        print()"
   ]
  },
  {
   "cell_type": "code",
   "execution_count": 15,
   "metadata": {
    "scrolled": true
   },
   "outputs": [
    {
     "name": "stdout",
     "output_type": "stream",
     "text": [
      "770 3\n",
      "10 5 Sphere\n",
      "\n",
      "107.9627443274286 8.0142154183221 19.08226950024577 -5.471223403804014 55.5823063355159 41.60661077202753 12.347129149826849 10.168345756677013 58.67806717969624 -24.377214336318797 24.684265587044948\n",
      "48 130 132 140 142 146 168 183 184 189 215 219 229 250 274 280 284 296 358 388 394 399 415 425 427 452 494 498 506 518 549 553 554 560 563 584 593 595 635 644 652 658 663 664 699 709 718 724 749 \n",
      "61 143 151 163 190 199 210 216 224 231 242 285 292 302 335 339 343 360 362 364 366 373 380 381 422 424 445 463 466 469 479 480 484 489 493 495 497 510 533 556 559 568 583 587 592 599 608 650 653 670 674 678 712 714 716 726 730 740 745 748 750 758 \n",
      "58 136 179 201 202 212 214 233 236 240 247 251 255 315 356 357 365 370 386 404 405 442 443 446 451 455 458 474 475 478 483 492 496 505 520 538 543 547 586 604 619 622 624 629 633 641 654 675 676 683 703 706 713 728 736 744 755 760 769 \n",
      "41 135 152 154 167 170 174 178 241 246 254 261 265 272 298 309 319 329 353 375 391 412 471 485 487 488 490 499 536 546 570 580 594 596 598 627 668 669 715 731 734 754 \n",
      "52 131 169 175 187 220 248 268 281 282 289 295 312 333 338 342 345 352 354 420 437 453 460 461 476 511 516 521 542 567 575 577 588 589 600 602 615 623 637 645 646 657 667 677 694 705 722 729 735 742 743 746 765 \n",
      "10 5 Sphere\n",
      "\n",
      "16.48580399605505 0.47183475363994 3.707165741846521 -1.148294072183518 10.676394018694966 9.535433851929165 1.118223865397817 1.730749910234181 10.01243321824005 -3.075626891711011 25.038503936324545\n",
      "38 15 20 27 31 46 53 59 60 61 63 74 77 78 79 80 81 88 99 102 113 144 164 206 225 232 314 323 387 419 431 472 481 502 603 661 725 756 757 \n",
      "54 10 12 24 30 35 36 39 42 44 45 54 55 56 58 62 65 68 72 73 84 91 93 105 106 112 115 119 139 155 159 171 177 237 256 262 263 287 288 290 318 325 361 382 413 441 464 465 509 534 544 545 566 655 701 \n",
      "57 0 1 2 3 8 11 16 29 32 33 38 47 49 50 52 57 71 82 86 87 89 94 100 101 110 114 116 121 137 188 228 249 253 270 372 379 390 396 411 432 504 526 531 539 565 605 617 666 671 673 686 689 697 704 732 752 753 \n",
      "53 4 5 7 9 17 19 21 25 26 34 43 48 51 64 70 76 90 96 97 98 108 109 111 117 122 123 125 127 148 162 205 213 235 266 267 271 310 346 347 417 423 440 590 610 612 626 628 642 690 707 720 747 761 \n",
      "54 6 13 14 18 22 23 28 37 40 41 66 67 69 75 83 85 92 95 103 104 107 118 120 124 126 138 181 182 211 222 227 238 291 306 308 320 328 330 332 430 434 436 501 507 523 540 551 552 561 630 632 651 708 762 \n",
      "10 3 Sphere\n",
      "\n",
      "56.95583242587413 31.511911198349274 16.1041149331931 2.424239092960236 26.99197846192611 39.40745061592436 -3.529234196184079 36.37764779197745 37.02433492479932 -20.70233813515044 20.686894305793416\n",
      "100 128 133 158 160 161 165 172 173 185 192 194 197 198 200 209 217 221 230 234 243 258 260 264 269 275 277 279 294 299 313 322 324 326 337 341 344 350 351 355 363 368 376 377 378 392 395 401 402 409 414 428 435 439 444 450 457 467 470 482 486 491 519 524 528 537 550 555 562 582 585 591 601 607 613 616 636 639 640 643 656 659 662 672 682 684 687 692 693 695 696 700 719 721 727 737 739 751 763 767 768 \n",
      "80 129 134 141 153 156 157 166 176 180 186 191 195 196 207 218 223 252 257 259 273 278 283 297 304 307 316 317 331 334 348 383 384 385 397 398 407 416 418 426 433 438 447 456 462 468 473 500 503 508 512 513 514 515 522 529 532 541 558 571 573 578 581 597 611 614 618 620 634 638 648 660 691 711 723 733 738 741 759 764 766 \n",
      "74 145 147 149 150 193 203 204 208 226 239 244 245 276 286 293 300 301 303 305 311 321 327 336 340 349 359 367 369 371 374 389 393 400 403 406 408 410 421 429 448 449 454 459 477 517 525 527 530 535 548 557 564 569 572 574 576 579 606 609 621 625 631 647 649 665 679 680 681 685 688 698 702 710 717 \n"
     ]
    }
   ],
   "source": [
    "print(n_d, m)\n",
    "sum_error = 0\n",
    "for i in range(m):\n",
    "    clusters_A = spiliter(sub_names[i], sub_index[i], k_c[i], di)\n",
    "    print(di, k_c[i], \"Sphere\")\n",
    "    print()\n",
    "    pmr(manifold_centers[i], manifold_rad[i])\n",
    "    print_cluster(clusters_A)"
   ]
  },
  {
   "cell_type": "code",
   "execution_count": 16,
   "metadata": {},
   "outputs": [
    {
     "name": "stdout",
     "output_type": "stream",
     "text": [
      "0\n"
     ]
    }
   ],
   "source": [
    "print(len(outliers))\n",
    "for i in range(len(outliers)):\n",
    "    print(n_d - out + i)"
   ]
  }
 ],
 "metadata": {
  "kernelspec": {
   "display_name": "Python 3",
   "language": "python",
   "name": "python3"
  },
  "language_info": {
   "codemirror_mode": {
    "name": "ipython",
    "version": 3
   },
   "file_extension": ".py",
   "mimetype": "text/x-python",
   "name": "python",
   "nbconvert_exporter": "python",
   "pygments_lexer": "ipython3",
   "version": "3.7.6"
  },
  "toc": {
   "base_numbering": 1,
   "nav_menu": {},
   "number_sections": true,
   "sideBar": true,
   "skip_h1_title": false,
   "title_cell": "Table of Contents",
   "title_sidebar": "Contents",
   "toc_cell": false,
   "toc_position": {},
   "toc_section_display": true,
   "toc_window_display": false
  }
 },
 "nbformat": 4,
 "nbformat_minor": 4
}
